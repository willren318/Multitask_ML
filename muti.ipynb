{
 "cells": [
  {
   "cell_type": "markdown",
   "metadata": {},
   "source": [
    "把11个label一起进行机器学习，利用他给的loss function"
   ]
  },
  {
   "cell_type": "code",
   "execution_count": 135,
   "metadata": {},
   "outputs": [],
   "source": [
    "import numpy as np\n",
    "import pandas as pd\n",
    "from sklearn.linear_model import LogisticRegression\n",
    "from sklearn.multioutput import MultiOutputClassifier\n",
    "from sklearn.metrics import log_loss\n",
    "from sklearn.metrics import make_scorer\n",
    "from sklearn.ensemble import GradientBoostingRegressor\n",
    "from sklearn.multioutput import MultiOutputRegressor\n",
    "from sklearn.metrics import mean_squared_error\n",
    "from sklearn.metrics import accuracy_score\n",
    "from sklearn.model_selection import GridSearchCV\n",
    "import matplotlib.pyplot as plt\n",
    "from sklearn.metrics import f1_score"
   ]
  },
  {
   "cell_type": "code",
   "execution_count": 136,
   "metadata": {},
   "outputs": [],
   "source": [
    "# 载入数据\n",
    "X_train = pd.read_csv('X_train.csv')\n",
    "X_test = pd.read_csv('x.csv')  \n",
    "y_train = pd.read_csv('y_train.csv')\n",
    "y_test = pd.read_csv('y.csv')  "
   ]
  },
  {
   "cell_type": "markdown",
   "metadata": {},
   "source": [
    "X_train.csv 和 x.csv：\n",
    "包含特征数据。X_train.csv 是用于训练的特征数据集，而 x.csv 是用于测试或验证的特征数据集。\n",
    "\n",
    "y_train.csv 和 y.csv：\n",
    "包含标签数据。y_train.csv 是训练数据集的标签，包含多个列，每个列对应一个不同的标签。y.csv 是测试或验证数据集的标签。"
   ]
  },
  {
   "cell_type": "markdown",
   "metadata": {},
   "source": [
    "自定义损失函数：平均二元交叉熵损失"
   ]
  },
  {
   "cell_type": "code",
   "execution_count": 137,
   "metadata": {},
   "outputs": [],
   "source": [
    "def custom_loss(y_true, y_pred):\n",
    "    # 计算每个目标的交叉熵损失并取平均\n",
    "    logloss = np.mean([log_loss(y_true[:, j], y_pred[:, j]) for j in range(y_true.shape[1])])\n",
    "    return logloss"
   ]
  },
  {
   "cell_type": "markdown",
   "metadata": {},
   "source": [
    "转换损失函数为评分函数：\n",
    "\n",
    "使用 make_scorer 来转换损失函数为评分函数，\n",
    "greater_is_better=False 表示损失越小越好。"
   ]
  },
  {
   "cell_type": "code",
   "execution_count": 138,
   "metadata": {},
   "outputs": [],
   "source": [
    "loss_scorer = make_scorer(custom_loss, greater_is_better=False)"
   ]
  },
  {
   "cell_type": "markdown",
   "metadata": {},
   "source": [
    "模型训练和预测：\n",
    "使用 MultiOutputRegressor 包装 GradientBoostingRegressor 来处理多目标回归任务。"
   ]
  },
  {
   "cell_type": "code",
   "execution_count": 139,
   "metadata": {},
   "outputs": [],
   "source": [
    "model = MultiOutputRegressor(GradientBoostingRegressor(random_state=42))\n",
    "df = pd.concat([X_train, y_train], axis=1)\n",
    "model.fit(df.iloc[:, :34], df.iloc[:, 34:])\n",
    "y_pred = model.predict(df.iloc[:, :34])"
   ]
  },
  {
   "cell_type": "markdown",
   "metadata": {},
   "source": [
    "性能评估：\n",
    "使用均方误差（MSE）来评估模型性能"
   ]
  },
  {
   "cell_type": "code",
   "execution_count": 140,
   "metadata": {},
   "outputs": [
    {
     "name": "stdout",
     "output_type": "stream",
     "text": [
      "Mean Squared Error: 0.11794731673144203\n"
     ]
    }
   ],
   "source": [
    "mse = mean_squared_error(df.iloc[:, 34:], y_pred)\n",
    "print(\"Mean Squared Error:\", mse)"
   ]
  },
  {
   "cell_type": "markdown",
   "metadata": {},
   "source": [
    "计算准确率"
   ]
  },
  {
   "cell_type": "code",
   "execution_count": 141,
   "metadata": {},
   "outputs": [
    {
     "name": "stdout",
     "output_type": "stream",
     "text": [
      "平均准确率: 0.8291818181818182\n"
     ]
    }
   ],
   "source": [
    "# 将连续的预测值转换为二元标签\n",
    "y_pred_binary = (y_pred > 0.5).astype(int)\n",
    "\n",
    "# 计算每个输出的准确率并取平均\n",
    "accuracies = [accuracy_score(df.iloc[:, 34+i], y_pred_binary[:, i]) for i in range(y_pred_binary.shape[1])]\n",
    "average_accuracy = np.mean(accuracies)\n",
    "print(\"平均准确率:\", average_accuracy)\n",
    "\n"
   ]
  },
  {
   "cell_type": "markdown",
   "metadata": {},
   "source": [
    "进行可视化。绘制实际值与预测值的比较图。"
   ]
  },
  {
   "cell_type": "code",
   "execution_count": 142,
   "metadata": {},
   "outputs": [
    {
     "data": {
      "image/png": "[encoded data removed]",
      "text/plain": [
       "<Figure size 1000x500 with 1 Axes>"
      ]
     },
     "metadata": {},
     "output_type": "display_data"
    }
   ],
   "source": [
    "\n",
    "\n",
    "# 计算误差\n",
    "errors = df.iloc[:, 34+label_index] - y_pred_binary[:, label_index]\n",
    "\n",
    "# 绘制误差分布图\n",
    "plt.figure(figsize=(10, 5))\n",
    "plt.hist(errors, bins=20, edgecolor='black')\n",
    "plt.title('Distribution of Prediction Errors')\n",
    "plt.xlabel('Error')\n",
    "plt.ylabel('Frequency')\n",
    "plt.show()\n"
   ]
  },
  {
   "cell_type": "markdown",
   "metadata": {},
   "source": [
    "计算 F1 score"
   ]
  },
  {
   "cell_type": "code",
   "execution_count": 143,
   "metadata": {},
   "outputs": [
    {
     "name": "stdout",
     "output_type": "stream",
     "text": [
      "F1 Scores: 0.6880493411217166\n"
     ]
    }
   ],
   "source": [
    "# 计算宏平均F1分数\n",
    "f1_scores = [f1_score(df.iloc[:, 34+i], y_pred_binary[:, i], average='macro') for i in range(y_pred_binary.shape[1])]\n",
    "macro_average_f1 = np.mean(f1_scores)\n",
    "\n",
    "print(\"F1 Scores:\", macro_average_f1)\n"
   ]
  }
 ],
 "metadata": {
  "kernelspec": {
   "display_name": "Python 3",
   "language": "python",
   "name": "python3"
  },
  "language_info": {
   "codemirror_mode": {
    "name": "ipython",
    "version": 3
   },
   "file_extension": ".py",
   "mimetype": "text/x-python",
   "name": "python",
   "nbconvert_exporter": "python",
   "pygments_lexer": "ipython3",
   "version": "3.11.4"
  }
 },
 "nbformat": 4,
 "nbformat_minor": 2
}
